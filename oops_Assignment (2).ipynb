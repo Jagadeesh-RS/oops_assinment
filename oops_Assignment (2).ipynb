{
 "cells": [
  {
   "cell_type": "code",
   "execution_count": 4,
   "id": "4c3d703e-ea79-4a8b-8880-1e9c9a75298a",
   "metadata": {},
   "outputs": [],
   "source": [
    "\"\"\"\n",
    "Q1, Create a vehicle class with an init method having instance variables as name_of_vehicle, max_speed\n",
    "and average_of_vehicle.\n",
    "\"\"\"\n",
    "\n",
    "class vehicle:\n",
    "    def __init__(self,name_of_vehicle, max_speed,average_of_vehicle):\n",
    "        self.name_of_vehicle=name_of_vehicle\n",
    "        self.max_speed=max_speed\n",
    "        self.average_of_vehicle=average_of_vehicle\n",
    "\n",
    "        \n",
    "c=vehicle(\"Merc\",250,3)"
   ]
  },
  {
   "cell_type": "code",
   "execution_count": 15,
   "id": "1bc6365e-9424-47c5-af3c-b20ac85e2172",
   "metadata": {},
   "outputs": [
    {
     "name": "stdout",
     "output_type": "stream",
     "text": [
      "The name of the vehicle is benz\n",
      "The seating capacity of the vehicle is 5 \n"
     ]
    }
   ],
   "source": [
    "\"\"\"\n",
    "Q2. Create a child class car from the vehicle class created in Que 1, which will inherit the vehicle class.\n",
    "Create a method named seating_capacity which takes capacity as an argument and returns the name of\n",
    "the vehicle and its seating capacity.\n",
    "\"\"\"\n",
    "\n",
    "class vehicle:\n",
    "    def __init__(self,name_of_vehicle, max_speed,average_of_vehicle):\n",
    "        self.name_of_vehicle=name_of_vehicle\n",
    "        self.max_speed=max_speed\n",
    "        self.average_of_vehicle=average_of_vehicle\n",
    "class car(vehicle):\n",
    "    def seating_capacity(self,capacity):\n",
    "        self.capacity=capacity\n",
    "        print(\"The name of the vehicle is\"+\" \"+self.name_of_vehicle)\n",
    "        print(\"The seating capacity of the vehicle is {} \".format(self.capacity))\n",
    "\n",
    "c=car(\"benz\",250,3)\n",
    "c.seating_capacity(5)"
   ]
  },
  {
   "cell_type": "code",
   "execution_count": 29,
   "id": "a5c742a4-335d-43be-b2df-7af2db2b0b1a",
   "metadata": {},
   "outputs": [
    {
     "name": "stdout",
     "output_type": "stream",
     "text": [
      "The square of the number is 9\n",
      "The cube of the number is 27\n"
     ]
    }
   ],
   "source": [
    "\"\"\"   \n",
    "Q3. What is multiple inheritance? Write a python code to demonstrate multiple inheritance.\n",
    "\n",
    "\n",
    "Multiple inheritance is the method to inherit multiple class to a single class. this helps in utilizing the functonalities of the other class and supprts code re-usability\n",
    "\n",
    "\n",
    "\"\"\"\n",
    "\n",
    "class a:\n",
    "    \n",
    "    def sq(self,a):\n",
    "        return a*a\n",
    "\n",
    "class b:\n",
    "    def cube(self,a):\n",
    "        return a*a*a\n",
    "        \n",
    "class c(a,b):\n",
    "    def calc(self,a):\n",
    "        b=self.sq(a)\n",
    "        c=self.cube(a)\n",
    "        print(\"The square of the number is {}\".format(b))\n",
    "        print(\"The cube of the number is {}\".format(c))\n",
    "        \n",
    "cs=c()\n",
    "cs.calc(3)"
   ]
  },
  {
   "cell_type": "code",
   "execution_count": 56,
   "id": "16d409e6-3a44-4ba2-a934-edbcfb872b95",
   "metadata": {},
   "outputs": [
    {
     "data": {
      "text/plain": [
       "100"
      ]
     },
     "execution_count": 56,
     "metadata": {},
     "output_type": "execute_result"
    }
   ],
   "source": [
    "\"\"\"\n",
    "Q4. What are getter and setter in python? Create a class and create a getter and a setter method in this\n",
    "class.\n",
    "\n",
    "To access the variables or attributes that are encapsulted in class, we require getter and setter in python. The encapsulated attribute of the class deoes not allow the user to fetch or set the values of the attribute\n",
    "getter helps in fetching the value. setter helps in setting the value\n",
    "\"\"\"\n",
    "\n",
    "class car:\n",
    "    def __init__(self,name,power,cost):\n",
    "        self.name=name\n",
    "        self.power=power\n",
    "        self.__cost=cost\n",
    "    \n",
    "    @property\n",
    "    def getcost(self):\n",
    "        return self.__cost\n",
    "    @getcost.setter\n",
    "    def change_cost(self,cost):\n",
    "                self.__cost=cost\n",
    "        \n",
    "A=car(\"Benz\",250,10000000000000000)\n",
    "A.change_cost=100\n",
    "A.getcost"
   ]
  },
  {
   "cell_type": "code",
   "execution_count": 89,
   "id": "15c9d50a-fa31-4b66-8689-75c40ada7026",
   "metadata": {},
   "outputs": [
    {
     "name": "stdout",
     "output_type": "stream",
     "text": [
      "This square root of the value is 1.4142135623730951\n"
     ]
    }
   ],
   "source": [
    "\"\"\"\n",
    "5.What is method overriding in python? Write a python code to demonstrate method overriding.\n",
    "\n",
    "\n",
    "The method overriding is to ovveride the existing function of the parent class with the same name in the inherited class\n",
    "\n",
    "\"\"\"\n",
    "\n",
    "import math\n",
    "\n",
    "class a:\n",
    "    \n",
    "    def sq(self,a):\n",
    "        return a*a\n",
    "        \n",
    "class c(a):\n",
    "    def sq(self,a):\n",
    "        k=math.sqrt(a)\n",
    "        print(\"This square root of the value is {}\".format(k))\n",
    "\n",
    "\n",
    "### The new object will exwcute the method frfom child class        \n",
    "new=c()\n",
    "new.sq(2)\n"
   ]
  },
  {
   "cell_type": "code",
   "execution_count": 86,
   "id": "2c95020a-ba5c-47db-98ac-fa12c7e47298",
   "metadata": {},
   "outputs": [],
   "source": [
    "new=c()"
   ]
  },
  {
   "cell_type": "code",
   "execution_count": 88,
   "id": "fb6e0ed8-b307-4c7a-83ae-e27e30d032f0",
   "metadata": {},
   "outputs": [
    {
     "name": "stdout",
     "output_type": "stream",
     "text": [
      "This square root of the value is 1.4142135623730951\n"
     ]
    }
   ],
   "source": []
  },
  {
   "cell_type": "code",
   "execution_count": null,
   "id": "6ca48642-c940-4aee-896f-912aec27e556",
   "metadata": {},
   "outputs": [],
   "source": []
  }
 ],
 "metadata": {
  "kernelspec": {
   "display_name": "Python 3 (ipykernel)",
   "language": "python",
   "name": "python3"
  },
  "language_info": {
   "codemirror_mode": {
    "name": "ipython",
    "version": 3
   },
   "file_extension": ".py",
   "mimetype": "text/x-python",
   "name": "python",
   "nbconvert_exporter": "python",
   "pygments_lexer": "ipython3",
   "version": "3.10.8"
  }
 },
 "nbformat": 4,
 "nbformat_minor": 5
}
